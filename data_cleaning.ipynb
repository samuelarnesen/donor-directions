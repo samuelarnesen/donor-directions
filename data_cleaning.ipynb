{
 "cells": [
  {
   "cell_type": "markdown",
   "metadata": {},
   "source": [
    "### Guide to data cleaning\n",
    "\n",
    "The most important thing is that we're all self consistent with our classification algorithm. Here's the general principle: First, classify by occupation then classify by the employer. For instance, \"CLERK\" as an occupation is sufficiently general that I just look for who the employer is. But someone working in the US army as an engineer gets ranked as an engineer, not as military. Here are some sample corner cases with resolutions.\n",
    "\n",
    "* Government employees doing research are researchers (eg NASA, Meterologist at NWS). \n",
    "\n",
    "* Instructors at colleges (including community colleges) are professors, not teachers. \n",
    "\n",
    "* The distinction between Technology and Engineers is primarily a private vs public one. Moreover, software engineers are technology. Other engineers are engineers.\n",
    "\n",
    "* A millwright could be an engineer because they design stuff, agriculture because mills, or under technology? I went with agriculture.\n",
    "\n",
    "* MJ's discount warehouse with occupation SALES/BUSINESS OWNER is a business owner. \n",
    "\n",
    "* Insurance goes into finance.\n",
    "\n",
    "* Secretaries and other administrative staff are fairly employer agnostic; a secretary working for an agriculture company does not need a radically different skillset from a secretary working at a law firm. For that reason, secretaries and other administrative staff get wrapped in with sales and marketing as a \"fairly low level white collar\" type position.\n",
    "\n",
    "* If something really isn't clear, just chuck it in na (number 0). \n",
    "\n",
    "* There aren't that many students, so if you notice a student chuck them in 0. \n",
    "\n",
    "* Note: If their occupation is, say, bank manager or hospital administrator, put them down as bank and medical respectively. This is somewhat irritating because it means if someone works at a bank and puts down \"manager,' we'll sort them differently than if they put down \"bank manager.\"\n",
    "\n",
    "* Technicians go in technology usually, contractors in blue collar. Use your best judgment, and when in doubt default to the more general category.\n",
    "\n",
    "* There are a surprising number of people putting their jobs down as \"Philanthropy,\" or maybe that's just clustering. Put them down as 0 for now, and we'll come back to it.\n",
    "\n",
    "* If the image you have is one of a government bureaucrat, put them in government. \n",
    "\n",
    "### How to use this program\n",
    "\n",
    "Run the whole notebook. When you're ready to begin, open a new cell and execute the function record_state(). The state should be a state abbreviation, q should be the quarter (either 1 or 2, but by default let's use Q1). It'll start running through all the different employers, and at the very end, it will save the accumulated database and the new csv files with an additional column for industry. Things should get easier as we move along and collect more data. If you notice certain professions coming up often that have slight differentiators in occupations, you can add them to the hardcoding.\n",
    "\n",
    "For each industry, you'll enter the number corresponding to the industry (these are in industry_dict). I found it helpful to print industry_dict directly below my record_state() cell.\n",
    "\n"
   ]
  },
  {
   "cell_type": "code",
   "execution_count": 1,
   "metadata": {},
   "outputs": [],
   "source": [
    "import pandas as pd\n",
    "import numpy as np\n",
    "import pickle"
   ]
  },
  {
   "cell_type": "code",
   "execution_count": 2,
   "metadata": {},
   "outputs": [],
   "source": [
    "get_contribution = lambda state, q: pd.read_csv(\n",
    "    \"contribution_data/contributions_q{1}_2019_{0}.csv\".format(state, q))\n",
    "\n",
    "industries = []\n",
    "with open(\"industries.txt\", \"r\") as f:\n",
    "    for line in f.readlines():\n",
    "        industries.append(line.strip(\"\\n\").lower())\n",
    "\n",
    "industry_dict = dict(zip(np.arange(len(industries)), industries))\n",
    "states = [\"AL\", \"AK\", \"AZ\", \"AR\", \"CA\", \"CO\", \"CT\", \"DC\", \"DE\", \"FL\", \"GA\", \n",
    "  \"HI\", \"ID\", \"IL\", \"IN\", \"IA\", \"KS\", \"KY\", \"LA\", \"ME\", \"MD\", \n",
    "  \"MA\", \"MI\", \"MN\", \"MS\", \"MO\", \"MT\", \"NE\", \"NV\", \"NH\", \"NJ\", \n",
    "  \"NM\", \"NY\", \"NC\", \"ND\", \"OH\", \"OK\", \"OR\", \"PA\", \"RI\", \"SC\", \n",
    "  \"SD\", \"TN\", \"TX\", \"UT\", \"VT\", \"VA\", \"WA\", \"WV\", \"WI\", \"WY\"]"
   ]
  },
  {
   "cell_type": "code",
   "execution_count": 3,
   "metadata": {},
   "outputs": [],
   "source": [
    "with open(\"database.pkl\", \"rb+\") as f:\n",
    "    database = pickle.load(f)"
   ]
  },
  {
   "cell_type": "code",
   "execution_count": 117,
   "metadata": {},
   "outputs": [],
   "source": [
    "def record_state(state, q = 1, start = 0, print_loop = 100):\n",
    "    \"\"\" Initiates the process to record data for a particular state and quarter.\n",
    "    \n",
    "    Start enables you to break out of a loop and overright something.\n",
    "    \n",
    "    Prints the index every print_loop entries \"\"\"\n",
    "    matched_industry = []\n",
    "    assert q in [1, 2], \"Quarter must be 1 or 1.\"\n",
    "    assert state in states, \"State must be a string describing a valid state abbreviation.\"\n",
    "    contributions = get_contribution(state, q)\n",
    "    employers = list(contributions[\"employer\"])\n",
    "    occupations = list(contributions[\"occupation\"])\n",
    "    \n",
    "    check = str(input(\"Did you check that you aren't overwriting anything?\"))\n",
    "    if check[0].lower() != \"y\": raise ValueError(\"Operation halted.\")\n",
    "\n",
    "    matched_industry = matched_industry[:start]\n",
    "    for i in range(start, len(employers)):\n",
    "        if i % print_loop == 0: print(i)\n",
    "        job = str(employers[i]).lower()\n",
    "        occ = str(occupations[i]).lower()\n",
    "        # Hard coding to speed things up\n",
    "        \n",
    "        # There are a lot of these\n",
    "        gen_exec_category = [\"manager\", \"owner\", \"ceo\", \"president\", \"entrepreneur\", \"exec\", \"director\"]\n",
    "        if occ == \"retired\":\n",
    "            matched_industry.append(\"retired\")\n",
    "            # There are some NAs that are actually retired. \n",
    "        \n",
    "        elif \"software\" in occ:\n",
    "            matched_industry.append(industry_dict[12])\n",
    "        elif \"engineer\" in occ or \"professor\" in occ or \"faculty\" in occ:\n",
    "            matched_industry.append(industry_dict[9])\n",
    "        elif \"retired\" in occ:\n",
    "            matched_industry.append(industry_dict[1])\n",
    "        elif \"attorney\" in occ or \"lawyer\" in occ:\n",
    "            matched_industry.append(industry_dict[2])\n",
    "        elif \"doctor\" in occ or \"surgeon\" in occ:\n",
    "            matched_industry.append(industry_dict[6])\n",
    "        elif np.any([i in occ for i in gen_exec_category]):\n",
    "            matched_industry.append(industry_dict[7])\n",
    "        elif \"marketing\" in occ or \"sales\" in occ:\n",
    "            matched_industry.append(industry_dict[4])\n",
    "        elif \"real estate\" in occ:\n",
    "            matched_industry.append(industry_dict[8])\n",
    "        elif \"construction\" in occ:\n",
    "            matched_industry.append(industry_dict[17])\n",
    "        elif \"bank\" in occ or \"accountant\" in occ or \"invest\" in occ:\n",
    "            matched_industry.append(industry_dict[3])\n",
    "        \n",
    "        elif occ in database.keys():\n",
    "            matched_industry.append(database[occ])\n",
    "\n",
    "        else:\n",
    "            found_match = False\n",
    "            while not found_match:\n",
    "                industry = int(input(\"What industry is employer {0} with occupation {1}?\".format(\n",
    "                    job, occupations[i])))\n",
    "                if industry not in range(18):\n",
    "                    print(\"Industry out of range\")\n",
    "                    continue\n",
    "                else:\n",
    "                    found_match = True\n",
    "                    industry = industry_dict[industry]\n",
    "\n",
    "            database[occ] = industry\n",
    "            matched_industry.append(industry)\n",
    "    try:\n",
    "        contributions[\"Industry\"] = matched_industry\n",
    "        contributions.to_csv(\"contribution_data_with_industry/contribution_{0}_Q{1}.csv\".format(state, q))\n",
    "        with open(\"database.pkl\", \"wb\") as f:\n",
    "            pickle.dump(database, f)\n",
    "    except:\n",
    "        # Making sure I don't lose 20 minutes of my life\n",
    "        print(contributions)\n",
    "        print(matched_industry)"
   ]
  },
  {
   "cell_type": "code",
   "execution_count": null,
   "metadata": {},
   "outputs": [],
   "source": [
    "skipped = [\"CA\", \"FL\"]"
   ]
  },
  {
   "cell_type": "code",
   "execution_count": 92,
   "metadata": {},
   "outputs": [],
   "source": [
    "with open(\"database.pkl\", \"wb\") as f:\n",
    "    pickle.dump(database, f)"
   ]
  },
  {
   "cell_type": "code",
   "execution_count": 77,
   "metadata": {},
   "outputs": [],
   "source": [
    "# Use to see all the states ordered by the number of donors.\n",
    "donors = [len(get_contribution(state, 1)) for state in states]\n",
    "together = sorted(list(zip(donors, states)))"
   ]
  },
  {
   "cell_type": "code",
   "execution_count": null,
   "metadata": {},
   "outputs": [
    {
     "name": "stdin",
     "output_type": "stream",
     "text": [
      "Did you check that you aren't overwriting anything? y\n"
     ]
    },
    {
     "name": "stdout",
     "output_type": "stream",
     "text": [
      "0\n",
      "100\n",
      "200\n",
      "300\n",
      "400\n",
      "500\n",
      "600\n"
     ]
    },
    {
     "name": "stdin",
     "output_type": "stream",
     "text": [
      "What industry is employer liberty tech with occupation Registrar? 4\n",
      "What industry is employer protiviti with occupation Technology Consultant? 12\n"
     ]
    },
    {
     "name": "stdout",
     "output_type": "stream",
     "text": [
      "700\n"
     ]
    },
    {
     "name": "stdin",
     "output_type": "stream",
     "text": [
      "What industry is employer ponders funeral home with occupation Mortician? 6\n"
     ]
    }
   ],
   "source": [
    "record_state(states[10], 1)"
   ]
  },
  {
   "cell_type": "code",
   "execution_count": 40,
   "metadata": {},
   "outputs": [
    {
     "data": {
      "text/plain": [
       "{0: 'na',\n",
       " 1: 'retired',\n",
       " 2: 'law',\n",
       " 3: 'finance/accounting',\n",
       " 4: 'marketing/sales',\n",
       " 5: 'government/nonprofit',\n",
       " 6: 'medical',\n",
       " 7: 'entrepreneur/manager/executive',\n",
       " 8: 'real estate',\n",
       " 9: 'researcher/professor/engineer',\n",
       " 10: 'agriculture',\n",
       " 11: 'teacher/writer/librarian',\n",
       " 12: 'technology',\n",
       " 13: 'religious',\n",
       " 14: 'service/retail',\n",
       " 15: 'arts',\n",
       " 16: 'military/police',\n",
       " 17: 'blue collar'}"
      ]
     },
     "execution_count": 40,
     "metadata": {},
     "output_type": "execute_result"
    }
   ],
   "source": [
    "industry_dict"
   ]
  }
 ],
 "metadata": {
  "kernelspec": {
   "display_name": "Python 3",
   "language": "python",
   "name": "python3"
  },
  "language_info": {
   "codemirror_mode": {
    "name": "ipython",
    "version": 3
   },
   "file_extension": ".py",
   "mimetype": "text/x-python",
   "name": "python",
   "nbconvert_exporter": "python",
   "pygments_lexer": "ipython3",
   "version": "3.7.4"
  }
 },
 "nbformat": 4,
 "nbformat_minor": 4
}
